{
 "cells": [
  {
   "cell_type": "markdown",
   "id": "c1cc1f28-4d5b-45b8-90fe-90f7ebfcdd9d",
   "metadata": {},
   "source": [
    "# Process well plate\n",
    "\n",
    "## Setup Colab environment"
   ]
  },
  {
   "cell_type": "code",
   "execution_count": null,
   "id": "73de26a0-4c09-4f1e-abc8-efe4eda646cd",
   "metadata": {},
   "outputs": [],
   "source": [
    "# Clone repository\n",
    "!git clone https://github.com/e11bio/well-plate-assay.git\n",
    "# install module\n",
    "!pip install -e /content/well-plate-assay/.\n",
    "# install dependencies.\n",
    "!pip install zarr\n",
    "!pip install datashader\n",
    "!pip install nd2"
   ]
  },
  {
   "cell_type": "markdown",
   "id": "be5d8a89-24e6-4cf6-a329-fc6c8a2e60f3",
   "metadata": {},
   "source": [
    "## File Selection"
   ]
  },
  {
   "cell_type": "code",
   "execution_count": 2,
   "id": "6e661fdd-9b0e-4e47-99f6-b86abb3e5704",
   "metadata": {},
   "outputs": [
    {
     "ename": "ModuleNotFoundError",
     "evalue": "No module named 'google'",
     "output_type": "error",
     "traceback": [
      "\u001b[1;31m---------------------------------------------------------------------------\u001b[0m",
      "\u001b[1;31mModuleNotFoundError\u001b[0m                       Traceback (most recent call last)",
      "Input \u001b[1;32mIn [2]\u001b[0m, in \u001b[0;36m<cell line: 1>\u001b[1;34m()\u001b[0m\n\u001b[1;32m----> 1\u001b[0m \u001b[38;5;28;01mfrom\u001b[39;00m \u001b[38;5;21;01mgoogle\u001b[39;00m\u001b[38;5;21;01m.\u001b[39;00m\u001b[38;5;21;01mcolab\u001b[39;00m \u001b[38;5;28;01mimport\u001b[39;00m drive\n\u001b[0;32m      2\u001b[0m drive\u001b[38;5;241m.\u001b[39mmount(\u001b[38;5;124m'\u001b[39m\u001b[38;5;124m/content/drive\u001b[39m\u001b[38;5;124m'\u001b[39m)\n",
      "\u001b[1;31mModuleNotFoundError\u001b[0m: No module named 'google'"
     ]
    }
   ],
   "source": [
    "from google.colab import drive,auth\n",
    "import gspread\n",
    "from google.auth import default\n",
    "# mount drive\n",
    "drive.mount('/content/drive/')\n",
    "# setup google sheets connectivity\n",
    "auth.authenticate_user()\n",
    "gc = gspread.authorize(default()[0])\n",
    "# read data and put it in a dataframe\n",
    "gsheets = gc.open_by_url('https://docs.google.com/spreadsheets/d/1Kyq2SgzD-cQ8b8hYRxE4GvmDk0plhTfRCxZ7p00FD80/edit#gid=0')"
   ]
  },
  {
   "cell_type": "code",
   "execution_count": null,
   "id": "a9e2afb0-68ec-43e9-8e79-82cb92f18352",
   "metadata": {},
   "outputs": [],
   "source": [
    "nd2_file = '/content/drive/Shareddrives/GDriveData/220618_HEK002_ct1-ct3/220714_96w-Merged_DAPI-GFP-555-647.nd2'\n",
    "sheet_file = \"HEK002 (ct1 vs ct3) | Imaging REFs & Well IDs\" # just the sheet name !\n",
    "sheet_tab = 'HEK_002MAPS'"
   ]
  },
  {
   "cell_type": "code",
   "execution_count": null,
   "id": "7b67637e-73b4-4a8b-8474-8765e14a785e",
   "metadata": {},
   "outputs": [],
   "source": [
    "from wellplate.elements import read_plate_gsheet\n",
    "meta_data = read_plate_gsheet(\"HEK002 (ct1 vs ct3) | Imaging REFs & Well IDs\", \"HEK002_MAPS\")"
   ]
  }
 ],
 "metadata": {
  "kernelspec": {
   "display_name": "Python 3 (ipykernel)",
   "language": "python",
   "name": "python3"
  },
  "language_info": {
   "codemirror_mode": {
    "name": "ipython",
    "version": 3
   },
   "file_extension": ".py",
   "mimetype": "text/x-python",
   "name": "python",
   "nbconvert_exporter": "python",
   "pygments_lexer": "ipython3",
   "version": "3.8.13"
  }
 },
 "nbformat": 4,
 "nbformat_minor": 5
}
