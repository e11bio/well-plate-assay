{
 "cells": [
  {
   "cell_type": "markdown",
   "id": "c1cc1f28-4d5b-45b8-90fe-90f7ebfcdd9d",
   "metadata": {},
   "source": [
    "# Process well plate\n",
    "\n",
    "## Setup Colab environment"
   ]
  },
  {
   "cell_type": "code",
   "execution_count": null,
   "id": "73de26a0-4c09-4f1e-abc8-efe4eda646cd",
   "metadata": {},
   "outputs": [],
   "source": [
    "# Clone repository\n",
    "!git clone https://github.com/e11bio/well-plate-assay.git\n",
    "# install module\n",
    "!pip install -e /content/well-plate-assay/.\n",
    "# install dependencies.\n",
    "!pip install zarr\n",
    "!pip install datashader\n",
    "!pip install nd2\n",
    "!pip install napari"
   ]
  },
  {
   "cell_type": "markdown",
   "id": "6d9ac63f-5ab7-4c19-83d1-153ae7ad24de",
   "metadata": {},
   "source": [
    "# Restart kernel after setup!"
   ]
  },
  {
   "cell_type": "markdown",
   "id": "a7ce3fa4-fa19-42f1-be33-6ae04e4810fb",
   "metadata": {},
   "source": [
    "## Setup google drive connection"
   ]
  },
  {
   "cell_type": "code",
   "execution_count": 3,
   "id": "6e661fdd-9b0e-4e47-99f6-b86abb3e5704",
   "metadata": {},
   "outputs": [
    {
     "ename": "ModuleNotFoundError",
     "evalue": "No module named 'google'",
     "output_type": "error",
     "traceback": [
      "\u001b[1;31m---------------------------------------------------------------------------\u001b[0m",
      "\u001b[1;31mModuleNotFoundError\u001b[0m                       Traceback (most recent call last)",
      "Input \u001b[1;32mIn [3]\u001b[0m, in \u001b[0;36m<cell line: 1>\u001b[1;34m()\u001b[0m\n\u001b[1;32m----> 1\u001b[0m \u001b[38;5;28;01mfrom\u001b[39;00m \u001b[38;5;21;01mgoogle\u001b[39;00m\u001b[38;5;21;01m.\u001b[39;00m\u001b[38;5;21;01mcolab\u001b[39;00m \u001b[38;5;28;01mimport\u001b[39;00m drive,auth\n\u001b[0;32m      2\u001b[0m \u001b[38;5;28;01mimport\u001b[39;00m \u001b[38;5;21;01mgspread\u001b[39;00m\n\u001b[0;32m      3\u001b[0m \u001b[38;5;28;01mfrom\u001b[39;00m \u001b[38;5;21;01mgoogle\u001b[39;00m\u001b[38;5;21;01m.\u001b[39;00m\u001b[38;5;21;01mauth\u001b[39;00m \u001b[38;5;28;01mimport\u001b[39;00m default\n",
      "\u001b[1;31mModuleNotFoundError\u001b[0m: No module named 'google'"
     ]
    }
   ],
   "source": [
    "from google.colab import drive,auth\n",
    "import gspread\n",
    "from google.auth import default\n",
    "# mount drive\n",
    "drive.mount('/content/drive/')\n",
    "# setup google sheets connectivity\n",
    "auth.authenticate_user()\n",
    "gc = gspread.authorize(default()[0])"
   ]
  },
  {
   "cell_type": "markdown",
   "id": "be5d8a89-24e6-4cf6-a329-fc6c8a2e60f3",
   "metadata": {},
   "source": [
    "## File Selection"
   ]
  },
  {
   "cell_type": "code",
   "execution_count": 6,
   "id": "a9e2afb0-68ec-43e9-8e79-82cb92f18352",
   "metadata": {},
   "outputs": [],
   "source": [
    "nd2_file = '/content/drive/Shareddrives/GDriveData/220618_HEK002_ct1-ct3/220714_96w-Merged_DAPI-GFP-555-647.nd2'\n",
    "sheet_file = \"HEK002 (ct1 vs ct3) | Imaging REFs & Well IDs\" # just the sheet name !\n",
    "sheet_tab = 'HEK_002MAPS' # Worksheet name (Tab) that contains the Map."
   ]
  },
  {
   "cell_type": "markdown",
   "id": "fa4d78a7-1c6f-4fac-b824-96d43b4a6355",
   "metadata": {},
   "source": [
    "## Read in data"
   ]
  },
  {
   "cell_type": "code",
   "execution_count": null,
   "id": "7b67637e-73b4-4a8b-8474-8765e14a785e",
   "metadata": {},
   "outputs": [],
   "source": [
    "from wellplate.elements import read_plate_gsheet\n",
    "from wellplate.elements import read_nd2\n",
    "meta_data = read_plate_gsheet(gc, \"HEK002 (ct1 vs ct3) | Imaging REFs & Well IDs\", \"HEK002_MAPS\")\n",
    "im_data, channel_names, colormaps = read_nd2(nd2_file)"
   ]
  },
  {
   "cell_type": "markdown",
   "id": "5fb9c22c-34e3-4191-a559-6380f835d2bd",
   "metadata": {},
   "source": [
    "## Check plate map"
   ]
  },
  {
   "cell_type": "code",
   "execution_count": null,
   "id": "fc293080-4a38-4b0a-a15c-b3f95c35f183",
   "metadata": {},
   "outputs": [],
   "source": [
    "import panel as pn\n",
    "from wellplate.plots import plate_map\n",
    "\n",
    "plate_map(meta_data)"
   ]
  }
 ],
 "metadata": {
  "kernelspec": {
   "display_name": "Python 3 (ipykernel)",
   "language": "python",
   "name": "python3"
  },
  "language_info": {
   "codemirror_mode": {
    "name": "ipython",
    "version": 3
   },
   "file_extension": ".py",
   "mimetype": "text/x-python",
   "name": "python",
   "nbconvert_exporter": "python",
   "pygments_lexer": "ipython3",
   "version": "3.8.13"
  }
 },
 "nbformat": 4,
 "nbformat_minor": 5
}
