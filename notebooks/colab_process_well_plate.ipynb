{
  "cells": [
    {
      "cell_type": "markdown",
      "metadata": {
        "id": "c1cc1f28-4d5b-45b8-90fe-90f7ebfcdd9d"
      },
      "source": [
        "# Process well plate\n",
        "\n",
        "Make sure this notebook runs in a GPU runtime.\n",
        "Go to Runtime->Change Runtime Type' and select GPU\n",
        "\n",
        "# Ceck GPU "
      ],
      "id": "c1cc1f28-4d5b-45b8-90fe-90f7ebfcdd9d"
    },
    {
      "cell_type": "code",
      "source": [
        "gpu_info = !nvidia-smi\n",
        "gpu_info = '\\n'.join(gpu_info)\n",
        "if gpu_info.find('failed') >= 0:\n",
        "  print('Not connected to a GPU')\n",
        "else:\n",
        "  print(gpu_info)"
      ],
      "metadata": {
        "id": "vM-e1toDAb3a"
      },
      "id": "vM-e1toDAb3a",
      "execution_count": null,
      "outputs": []
    },
    {
      "cell_type": "markdown",
      "source": [
        "# Load Dependencies\n",
        "\n",
        "Will restart kernel upon completion"
      ],
      "metadata": {
        "id": "4a4EZcxUAkaq"
      },
      "id": "4a4EZcxUAkaq"
    },
    {
      "cell_type": "code",
      "execution_count": null,
      "metadata": {
        "id": "73de26a0-4c09-4f1e-abc8-efe4eda646cd"
      },
      "outputs": [],
      "source": [
        "import os\n",
        "# Clone repository\n",
        "!git clone https://github.com/e11bio/well-plate-assay.git\n",
        "# install module\n",
        "!pip install -e /content/well-plate-assay/.\n",
        "# install dependencies.\n",
        "!pip install zarr\n",
        "!pip install datashader\n",
        "!pip install nd2\n",
        "!pip install napari\n",
        "!pip install cellpose\n",
        "!pip install torch torchvision torchaudio\n",
        "!pip install panel\n",
        "!pip install jinja2\n",
        "!pip install flask\n",
        "!pip install seaborn --upgrade\n",
        "# restart kernel.\n",
        "os.kill(os.getpid(), 9)"
      ],
      "id": "73de26a0-4c09-4f1e-abc8-efe4eda646cd"
    },
    {
      "cell_type": "markdown",
      "metadata": {
        "id": "a7ce3fa4-fa19-42f1-be33-6ae04e4810fb"
      },
      "source": [
        "## Setup google drive connection\n",
        "Make sure you have a 'Manager' permission for the required folder.\n",
        "\n",
        "Will open additional windows to gain access."
      ],
      "id": "a7ce3fa4-fa19-42f1-be33-6ae04e4810fb"
    },
    {
      "cell_type": "code",
      "execution_count": null,
      "metadata": {
        "id": "6e661fdd-9b0e-4e47-99f6-b86abb3e5704"
      },
      "outputs": [],
      "source": [
        "from google.colab import drive,auth\n",
        "import gspread\n",
        "from google.auth import default\n",
        "\n",
        "# mount drive\n",
        "drive.mount('/content/drive/')\n",
        "# setup google sheets connectivity\n",
        "auth.authenticate_user()\n",
        "gc = gspread.authorize(default()[0])"
      ],
      "id": "6e661fdd-9b0e-4e47-99f6-b86abb3e5704"
    },
    {
      "cell_type": "markdown",
      "metadata": {
        "id": "be5d8a89-24e6-4cf6-a329-fc6c8a2e60f3"
      },
      "source": [
        "## File Selection"
      ],
      "id": "be5d8a89-24e6-4cf6-a329-fc6c8a2e60f3"
    },
    {
      "cell_type": "code",
      "execution_count": null,
      "metadata": {
        "id": "a9e2afb0-68ec-43e9-8e79-82cb92f18352"
      },
      "outputs": [],
      "source": [
        "nd2_file = '/content/drive/Shareddrives/GDriveData/Ab Screen (HEK) - EPITOPE TAGS/220618_HEK002_ct1-ct3/220714_96w-Merged_DAPI-GFP-555-647.nd2'\n",
        "sheet_file = \"HEK002 (ct1 vs ct3) | Imaging REFs & Well IDs\" # just the sheet name !\n",
        "sheet_tab = 'HEK002_MAPS' # Worksheet name (Tab) that contains the Map."
      ],
      "id": "a9e2afb0-68ec-43e9-8e79-82cb92f18352"
    },
    {
      "cell_type": "markdown",
      "metadata": {
        "id": "fa4d78a7-1c6f-4fac-b824-96d43b4a6355"
      },
      "source": [
        "## Read in data"
      ],
      "id": "fa4d78a7-1c6f-4fac-b824-96d43b4a6355"
    },
    {
      "cell_type": "code",
      "execution_count": null,
      "metadata": {
        "id": "7b67637e-73b4-4a8b-8474-8765e14a785e"
      },
      "outputs": [],
      "source": [
        "from wellplate.elements import read_plate_gsheet\n",
        "from wellplate.elements import read_nd2\n",
        "from wellplate.plots import plate_map\n",
        "\n",
        "meta_data = read_plate_gsheet(gc, sheet_file, sheet_tab)\n",
        "im_data, channel_names, colormaps = read_nd2(nd2_file)\n",
        "display(f'Available channels in nd2 file: {channel_names}')\n",
        "plate_map(meta_data)"
      ],
      "id": "7b67637e-73b4-4a8b-8474-8765e14a785e"
    },
    {
      "cell_type": "markdown",
      "metadata": {
        "id": "t0Xv8jFxYnUd"
      },
      "source": [
        "# Get cell segmentation.\n",
        "Will take anywhere from 20-30 mins."
      ],
      "id": "t0Xv8jFxYnUd"
    },
    {
      "cell_type": "code",
      "source": [
        "from wellplate.extract import run_cellpose\n",
        "\n",
        "run_cellpose(nd2_file,'365 nm', redo=False)"
      ],
      "metadata": {
        "id": "fnttWyG495ej"
      },
      "id": "fnttWyG495ej",
      "execution_count": null,
      "outputs": []
    },
    {
      "cell_type": "markdown",
      "metadata": {
        "id": "3EkfrZU3ZwC0"
      },
      "source": [
        "# Get cell intensities"
      ],
      "id": "3EkfrZU3ZwC0"
    },
    {
      "cell_type": "code",
      "source": [
        "from wellplate.extract import calculate_intensities_channel\n",
        "\n",
        "calculate_intensities_channel(nd2_file, '365 nm', '488 nm', redo=False)\n",
        "calculate_intensities_channel(nd2_file, '365 nm', '640 nm', redo=False)"
      ],
      "metadata": {
        "id": "Ki9k0SQX_dDq"
      },
      "id": "Ki9k0SQX_dDq",
      "execution_count": null,
      "outputs": []
    },
    {
      "cell_type": "markdown",
      "metadata": {
        "id": "XFHl5ibBeE3z"
      },
      "source": [
        "## Calculate scaffold/epi ratio result"
      ],
      "id": "XFHl5ibBeE3z"
    },
    {
      "cell_type": "code",
      "source": [
        "from wellplate.extract import calculate_scaffold_epi_ratios\n",
        "\n",
        "results = calculate_scaffold_epi_ratios(nd2_file, meta_data, '488 nm', '640 nm', threshold_factor = 0.5)\n",
        "display(results)"
      ],
      "metadata": {
        "id": "iMWjZhi6BQz8"
      },
      "id": "iMWjZhi6BQz8",
      "execution_count": null,
      "outputs": []
    },
    {
      "cell_type": "markdown",
      "source": [
        "# Examples"
      ],
      "metadata": {
        "id": "RkZ8xiZMGFNL"
      },
      "id": "RkZ8xiZMGFNL"
    },
    {
      "cell_type": "markdown",
      "source": [
        "## Grouping"
      ],
      "metadata": {
        "id": "NS1CkqxrGG9b"
      },
      "id": "NS1CkqxrGG9b"
    },
    {
      "cell_type": "code",
      "source": [
        "display(results.groupby(['SCAFFOLD','EPITOPE','PRIMARY-01']).mean())"
      ],
      "metadata": {
        "id": "xLUNnpoMGEDj"
      },
      "id": "xLUNnpoMGEDj",
      "execution_count": null,
      "outputs": []
    },
    {
      "cell_type": "markdown",
      "source": [
        "## Compare Scaffold"
      ],
      "metadata": {
        "id": "wgOCA0K8G_cr"
      },
      "id": "wgOCA0K8G_cr"
    },
    {
      "cell_type": "code",
      "source": [
        "import seaborn as sns\n",
        "\n",
        "g = sns.catplot(\n",
        "    data=results, kind=\"bar\",\n",
        "    x=\"EPITOPE\", y=\"ratio\", hue=\"SCAFFOLD\", errorbar=\"se\", palette=\"dark\", alpha=.6, height=6\n",
        ")\n",
        "g.set_axis_labels(\"\", \"Ratio Scaffold/Epitope\")\n",
        "g.legend.set_title(\"\")"
      ],
      "metadata": {
        "id": "seBPC1PlHB8z"
      },
      "id": "seBPC1PlHB8z",
      "execution_count": null,
      "outputs": []
    },
    {
      "cell_type": "markdown",
      "source": [
        "## Compare Primaries per Epitope\n"
      ],
      "metadata": {
        "id": "pxPlxsJYHD8j"
      },
      "id": "pxPlxsJYHD8j"
    },
    {
      "cell_type": "code",
      "source": [
        "import seaborn as sns\n",
        "for epi in results['EPITOPE'].unique():\n",
        "  g = sns.catplot(\n",
        "      data=results.loc[results.EPITOPE==epi], kind=\"bar\",\n",
        "      x=\"EPITOPE\", y=\"ratio\", hue=\"PRIMARY-01\", errorbar=\"se\", palette=\"dark\", alpha=.6, height=6\n",
        "  )\n",
        "  g.set_axis_labels(\"\", \"Ratio Scaffold/Epitope\")\n",
        "  g.legend.set_title(\"\")"
      ],
      "metadata": {
        "id": "bFerlx8eHGxD"
      },
      "id": "bFerlx8eHGxD",
      "execution_count": null,
      "outputs": []
    },
    {
      "cell_type": "markdown",
      "source": [
        "# Appendix"
      ],
      "metadata": {
        "id": "L4hohWriEIbL"
      },
      "id": "L4hohWriEIbL"
    },
    {
      "cell_type": "markdown",
      "source": [
        "## Show significant cell masks"
      ],
      "metadata": {
        "id": "DezUCbQfEKAT"
      },
      "id": "DezUCbQfEKAT"
    },
    {
      "cell_type": "code",
      "source": [
        "%load_ext autoreload\n",
        "%autoreload 2"
      ],
      "metadata": {
        "id": "3KYJD_0GFrXL"
      },
      "id": "3KYJD_0GFrXL",
      "execution_count": null,
      "outputs": []
    },
    {
      "cell_type": "code",
      "source": [
        "from wellplate.plots import show_sig_cell_masks\n",
        "\n",
        "show_sig_cell_masks(nd2_file, well_ind= 10, dapi_channel='365 nm', scaffold_channel='488 nm', threshold_factor = 0.5)"
      ],
      "metadata": {
        "id": "caME7yC0ENTb"
      },
      "id": "caME7yC0ENTb",
      "execution_count": null,
      "outputs": []
    }
  ],
  "metadata": {
    "accelerator": "GPU",
    "colab": {
      "collapsed_sections": [],
      "provenance": []
    },
    "gpuClass": "standard",
    "kernelspec": {
      "display_name": "Python 3 (ipykernel)",
      "language": "python",
      "name": "python3"
    },
    "language_info": {
      "codemirror_mode": {
        "name": "ipython",
        "version": 3
      },
      "file_extension": ".py",
      "mimetype": "text/x-python",
      "name": "python",
      "nbconvert_exporter": "python",
      "pygments_lexer": "ipython3",
      "version": "3.8.13"
    }
  },
  "nbformat": 4,
  "nbformat_minor": 5
}