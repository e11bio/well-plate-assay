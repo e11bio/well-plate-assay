{
 "cells": [
  {
   "cell_type": "code",
   "execution_count": 3,
   "id": "a86891f3-5e0b-41af-92a7-e9b920ddc58f",
   "metadata": {},
   "outputs": [],
   "source": [
    "import napari\n",
    "import nd2\n",
    "file_loc = 'C:/220714_96w-Merged_DAPI-GFP-555-647.nd2'"
   ]
  },
  {
   "cell_type": "code",
   "execution_count": 1,
   "id": "839d84c1-d7d6-48bd-b770-35c430a52ead",
   "metadata": {},
   "outputs": [],
   "source": [
    "import napari\n",
    "import nd2\n",
    "\n",
    "stack = nd2.imread(file_loc)"
   ]
  },
  {
   "cell_type": "code",
   "execution_count": 41,
   "id": "b8757800-70d8-4384-b7b3-00902ac5b401",
   "metadata": {},
   "outputs": [],
   "source": [
    "from napari.utils import Colormap\n",
    "colormaps = []\n",
    "names = []\n",
    "with nd2.ND2File(file_loc) as f:\n",
    "    for channel in f.metadata.channels:\n",
    "        name = channel.channel.name\n",
    "        r = (channel.channel.colorRGB & 0xff)/255\n",
    "        g = ((channel.channel.colorRGB & 0xff00) >> 8)/255\n",
    "        b = ((channel.channel.colorRGB & 0xff0000) >> 16)/255\n",
    "        a = 1\n",
    "        colors = [[0,0,0,0],[r,g,b,a]]\n",
    "        colormaps.append(Colormap(colors,name = name))\n",
    "        names.append(name)"
   ]
  },
  {
   "cell_type": "code",
   "execution_count": 42,
   "id": "729beacf-92df-4f37-a1cb-b59c7bc4a186",
   "metadata": {},
   "outputs": [],
   "source": [
    "with nd2.ND2File(file_loc) as ndfile:\n",
    "    xarr = ndfile.to_xarray(delayed=False)\n",
    "    viewer = napari.view_image(xarr, channel_axis=1,colormap = colormaps,name=names)"
   ]
  }
 ],
 "metadata": {
  "kernelspec": {
   "display_name": "Python 3 (ipykernel)",
   "language": "python",
   "name": "python3"
  },
  "language_info": {
   "codemirror_mode": {
    "name": "ipython",
    "version": 3
   },
   "file_extension": ".py",
   "mimetype": "text/x-python",
   "name": "python",
   "nbconvert_exporter": "python",
   "pygments_lexer": "ipython3",
   "version": "3.8.13"
  }
 },
 "nbformat": 4,
 "nbformat_minor": 5
}
